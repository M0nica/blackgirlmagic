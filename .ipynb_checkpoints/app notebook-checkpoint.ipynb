{
 "cells": [
  {
   "cell_type": "code",
   "execution_count": 33,
   "metadata": {
    "collapsed": false
   },
   "outputs": [],
   "source": [
    "from twython import Twython, TwythonError\n",
    "\n",
    "# create a Twython object by passing the necessary secret passwords\n",
    "twitter = twython.Twython(api_key, api_secret, access_token, token_secret)\n",
    "\n",
    "# return tweets cotaining #BlackGirlMagic, mix of recent and popular tweets\n",
    "response = twitter.search(q='\"#BlackGirlMagic\"  -filter:retweets', result_type=\"recent\", count=20)\n",
    "#if r['retweet_count'] for r in responses['statuses']> 10:\n",
    "[r['text'] for r in response['statuses'] if r['retweet_count'] > 10]\n",
    "try: \n",
    "    [twitter.retweet(id = tweet[\"id_str\"]) for tweet in response['statuses'] if tweet['retweet_count'] > 10]\n",
    "except TwythonError as e:\n",
    "    print(e)"
   ]
  },
  {
   "cell_type": "code",
   "execution_count": 24,
   "metadata": {
    "collapsed": false
   },
   "outputs": [],
   "source": [
    "# urg ugly error : TwythonError: Twitter API returned a 403 (Forbidden), You have already retweeted this tweet.\n",
    "\n",
    "        "
   ]
  },
  {
   "cell_type": "code",
   "execution_count": null,
   "metadata": {
    "collapsed": true
   },
   "outputs": [],
   "source": []
  }
 ],
 "metadata": {
  "kernelspec": {
   "display_name": "Python 3",
   "language": "python",
   "name": "python3"
  },
  "language_info": {
   "codemirror_mode": {
    "name": "ipython",
    "version": 3
   },
   "file_extension": ".py",
   "mimetype": "text/x-python",
   "name": "python",
   "nbconvert_exporter": "python",
   "pygments_lexer": "ipython3",
   "version": "3.5.1"
  }
 },
 "nbformat": 4,
 "nbformat_minor": 0
}
