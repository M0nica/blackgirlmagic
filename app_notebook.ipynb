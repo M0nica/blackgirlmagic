{
 "cells": [
  {
   "cell_type": "code",
   "execution_count": 94,
   "metadata": {
    "collapsed": false
   },
   "outputs": [
    {
     "name": "stdout",
     "output_type": "stream",
     "text": [
      "#tbt to getting ready for saunjay_ party and then going back to bed 😩😩😩 #blackgirlmagic #toronto… https://t.co/79dJg6rSDt\n",
      "Natural beauty!!!\n",
      "#hylensphotography #canon #lens #natural #naturalhair #blackgirlmagic… https://t.co/auPmrB7H89\n",
      "What wonderful things #blackwomen  #contribute to the #World..... #blackgirlmagic #history must… https://t.co/9fbZFkP3Cu\n",
      "Tonight's #sketch - I'm loving these bald ones... \n",
      "\n",
      "#blackgirlmagic #afropunk #illustration… https://t.co/gbXYPG5x6Y\n",
      "It's that #blackgirlmagic\n",
      "\n",
      "Tracee Ellis Ross 44 years old, wins a Golden Globe exactly 44 years… https://t.co/iZl8IUmooI\n"
     ]
    }
   ],
   "source": [
    "from twython import Twython, TwythonError\n",
    "\n",
    "# create a Twython object by passing the necessary secret passwords\n",
    "twitter = twython.Twython(api_key, api_secret, access_token, token_secret)\n",
    "\n",
    "# return tweets cotaining #BlackGirlMagic, mix of recent and popular tweets\n",
    "response = twitter.search(q='\"#BlackGirlMagic\"  -filter:retweets -url:instagram', result_type=\"recent\", count=5)\n",
    "#if r['retweet_count'] for r in responses['statuses']> 10:\n",
    "# [r['text'] for r in response['statuses'] if r['retweet_count'] > 1]\n",
    "try: \n",
    "    [print(tweet[\"text\"]) for tweet in response['statuses']]\n",
    "    #[twitter.retweet(id = tweet[\"id_str\"]) for tweet in response['statuses']]\n",
    "    # [twitter.retweet(id = tweet[\"id_str\"]) for tweet in response['statuses'] if tweet['retweet_count'] > 1]\n",
    "except TwythonError as e:\n",
    "    print(e)"
   ]
  },
  {
   "cell_type": "code",
   "execution_count": 24,
   "metadata": {
    "collapsed": false
   },
   "outputs": [],
   "source": [
    "# urg ugly error : TwythonError: Twitter API returned a 403 (Forbidden), You have already retweeted this tweet.\n",
    "\n",
    "        "
   ]
  },
  {
   "cell_type": "code",
   "execution_count": 43,
   "metadata": {
    "collapsed": false
   },
   "outputs": [],
   "source": [
    "# response = twitter.search(q='\"#BlackGirlMagic\"  -filter:retweets', result_type=\"recent\", count=100)\n",
    "\n",
    "# [r['text'] for r in response['statuses'] if r['retweet_count'] > 1]"
   ]
  },
  {
   "cell_type": "code",
   "execution_count": 92,
   "metadata": {
    "collapsed": false
   },
   "outputs": [
    {
     "name": "stdout",
     "output_type": "stream",
     "text": [
      "Try BEU's  all natural whipped body butter, its good enough to eat!\n",
      "https://t.co/Qr3ABuLngO #BlackGirlMagic #fb… https://t.co/LqRbvIVpiL\n",
      "I finally saw #HiddenFigures, the never before told story of the women representing #NASA. I have never been prouder of #BlackGirlMagic.\n",
      "Age is such a non-factor amongst these beautiful, brown bombshells! 😍👑 #goals #gorgeous #glamour #beauty… https://t.co/AeJhmMP2Ws\n",
      "Go head witcho cute ass *Trey Songz voice* I can't get over herrrrr #dollstagram #melaninpoppin… https://t.co/YfOgBjooZr\n",
      "Omg! Man this is so true! !!  😂😂😂 ain't she a cutie pie tho! \n",
      "#blackdontcrack #blackgirlsrock… https://t.co/2l2nmzfqwi\n",
      "#blackgirlsrock #blackgirlmagic #womeninbusiness https://t.co/x3SitkNzuH\n"
     ]
    }
   ],
   "source": [
    "terms = [ \"#BlackGirlMagic\", \"#MelaninPoppin\", \"#BlackGirlsRock\", \"#BlackGirlsCode\", \"#CarefreeBlackGirl\"]\n",
    "for term in terms: \n",
    "\n",
    "    response = twitter.search(q=term + '-filter:retweets', result_type=\"recent\", count=2)\n",
    "\n",
    "    try:\n",
    "    # [twitter.retweet(id = tweet[\"id_str\"]) for tweet in response['statuses']]\n",
    "    # used for test purposes to show text of tweets in response\n",
    "        [print(tweet[\"text\"]) for tweet in response['statuses']]\n",
    "        # [tweet['text'] for tweet in response['statuses']]\n",
    "    # [twitter.retweet(id = tweet[\"id_str\"]) for tweet in response['statuses'] if tweet['retweet_count'] > 1]\n",
    "    except TwythonError as e:\n",
    "        print(e)\n",
    "\n"
   ]
  },
  {
   "cell_type": "code",
   "execution_count": 88,
   "metadata": {
    "collapsed": false
   },
   "outputs": [
    {
     "name": "stdout",
     "output_type": "stream",
     "text": [
      "819389180920864768\n",
      "819388700849278976\n",
      "819388407554179072\n",
      "819388082311102467\n",
      "819388029995544576\n"
     ]
    },
    {
     "data": {
      "text/plain": [
       "[None, None, None, None, None]"
      ]
     },
     "execution_count": 88,
     "metadata": {},
     "output_type": "execute_result"
    }
   ],
   "source": [
    "response = twitter.search(q='\"#BlackGirlMagic\"  -filter:retweets', result_type=\"recent\", count=5)\n",
    "[print(tweet[\"id_str\"]) for tweet in response['statuses']]"
   ]
  },
  {
   "cell_type": "code",
   "execution_count": null,
   "metadata": {
    "collapsed": true
   },
   "outputs": [],
   "source": []
  }
 ],
 "metadata": {
  "kernelspec": {
   "display_name": "Python 3",
   "language": "python",
   "name": "python3"
  },
  "language_info": {
   "codemirror_mode": {
    "name": "ipython",
    "version": 3
   },
   "file_extension": ".py",
   "mimetype": "text/x-python",
   "name": "python",
   "nbconvert_exporter": "python",
   "pygments_lexer": "ipython3",
   "version": "3.5.1"
  }
 },
 "nbformat": 4,
 "nbformat_minor": 0
}
